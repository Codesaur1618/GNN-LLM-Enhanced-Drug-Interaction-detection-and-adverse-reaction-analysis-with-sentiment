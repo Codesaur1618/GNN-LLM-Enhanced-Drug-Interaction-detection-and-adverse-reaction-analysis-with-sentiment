{
 "cells": [
  {
   "cell_type": "code",
   "execution_count": null,
   "id": "8ca41127",
   "metadata": {},
   "outputs": [],
   "source": [
    "import pandas as pd\n",
    "from sklearn.model_selection import train_test_split, cross_val_score\n",
    "from sklearn.feature_extraction.text import TfidfVectorizer\n",
    "from sklearn.linear_model import LogisticRegression\n",
    "from sklearn.ensemble import RandomForestClassifier\n",
    "from sklearn.svm import SVC\n",
    "from sklearn.metrics import classification_report\n",
    "from imblearn.over_sampling import SMOTE\n",
    "import xgboost as xgb\n",
    "\n"
   ]
  },
  {
   "cell_type": "code",
   "execution_count": null,
   "id": "391f16fa",
   "metadata": {},
   "outputs": [],
   "source": [
    "# Load and clean data\n",
    "data = pd.read_csv(\"Finale.csv\")  # Replace with actual path\n",
    "data = data.drop(columns=[\"Unnamed: 0\"])\n"
   ]
  },
  {
   "cell_type": "code",
   "execution_count": null,
   "id": "26f4f31e",
   "metadata": {},
   "outputs": [],
   "source": [
    "# Merge classes for severity\n",
    "data['Severity'] = data['Severity'].replace({\n",
    "    'None': 'Mild',\n",
    "    'significantly': 'Moderate',\n",
    "    'Life-threatening': 'Severe',\n",
    "    'Risk': 'Severe',\n",
    "    'Grade': 'Severe',\n",
    "    'Very Mild': 'Mild'\n",
    "})\n",
    "data = data.dropna(subset=['Severity'])\n"
   ]
  },
  {
   "cell_type": "code",
   "execution_count": null,
   "id": "fdf4d680",
   "metadata": {},
   "outputs": [],
   "source": [
    "# Map severity levels to numerical values\n",
    "severity_mapping = {'Uncertain': 0, 'Mild': 1, 'Moderate': 2, 'Severe': 3}\n",
    "data['Severity'] = data['Severity'].map(severity_mapping)\n"
   ]
  },
  {
   "cell_type": "code",
   "execution_count": null,
   "id": "9b707053",
   "metadata": {},
   "outputs": [],
   "source": [
    "# Feature extraction with TF-IDF\n",
    "X = data['AdverseReaction']\n",
    "y = data['Severity']\n",
    "vectorizer = TfidfVectorizer()\n",
    "X_vectorized = vectorizer.fit_transform(X)"
   ]
  },
  {
   "cell_type": "code",
   "execution_count": null,
   "id": "fa42184b",
   "metadata": {},
   "outputs": [],
   "source": [
    "# Apply SMOTE for balancing classes\n",
    "smote = SMOTE(random_state=42)\n",
    "X_resampled, y_resampled = smote.fit_resample(X_vectorized, y)\n"
   ]
  },
  {
   "cell_type": "code",
   "execution_count": null,
   "id": "ce1e62e2",
   "metadata": {},
   "outputs": [],
   "source": [
    "\n",
    "# Train-test split\n",
    "X_train, X_test, y_train, y_test = train_test_split(X_resampled, y_resampled, test_size=0.2, random_state=42)"
   ]
  },
  {
   "cell_type": "code",
   "execution_count": null,
   "id": "a108473f",
   "metadata": {},
   "outputs": [],
   "source": [
    "# Define a dictionary to hold models\n",
    "models = {\n",
    "    'Logistic Regression': LogisticRegression(class_weight='balanced', max_iter=1000),\n",
    "    'Random Forest': RandomForestClassifier(class_weight='balanced', n_estimators=100, random_state=42),\n",
    "    'SVM': SVC(class_weight='balanced', kernel='linear', random_state=42),\n",
    "    'XGBoost': xgb.XGBClassifier(objective='multi:softmax', num_class=4, eval_metric='mlogloss', use_label_encoder=False)\n",
    "}\n"
   ]
  },
  {
   "cell_type": "code",
   "execution_count": null,
   "id": "27cbd1e1",
   "metadata": {},
   "outputs": [],
   "source": [
    "# Fit and evaluate each model\n",
    "for model_name, model in models.items():\n",
    "    print(f\"\\n--- {model_name} ---\")\n",
    "    model.fit(X_train, y_train)\n",
    "    y_pred = model.predict(X_test)\n",
    "    print(classification_report(y_test, y_pred, target_names=severity_mapping.keys()))\n"
   ]
  }
 ],
 "metadata": {
  "kernelspec": {
   "display_name": "Python 3 (ipykernel)",
   "language": "python",
   "name": "python3"
  },
  "language_info": {
   "codemirror_mode": {
    "name": "ipython",
    "version": 3
   },
   "file_extension": ".py",
   "mimetype": "text/x-python",
   "name": "python",
   "nbconvert_exporter": "python",
   "pygments_lexer": "ipython3",
   "version": "3.9.12"
  }
 },
 "nbformat": 4,
 "nbformat_minor": 5
}
