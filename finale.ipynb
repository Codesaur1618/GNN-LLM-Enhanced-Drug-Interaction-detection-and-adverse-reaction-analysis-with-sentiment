{
 "cells": [
  {
   "cell_type": "code",
   "execution_count": 14,
   "id": "98474eac",
   "metadata": {},
   "outputs": [
    {
     "data": {
      "text/html": [
       "<div>\n",
       "<style scoped>\n",
       "    .dataframe tbody tr th:only-of-type {\n",
       "        vertical-align: middle;\n",
       "    }\n",
       "\n",
       "    .dataframe tbody tr th {\n",
       "        vertical-align: top;\n",
       "    }\n",
       "\n",
       "    .dataframe thead th {\n",
       "        text-align: right;\n",
       "    }\n",
       "</style>\n",
       "<table border=\"1\" class=\"dataframe\">\n",
       "  <thead>\n",
       "    <tr style=\"text-align: right;\">\n",
       "      <th></th>\n",
       "      <th>File</th>\n",
       "      <th>AdverseReaction</th>\n",
       "      <th>Severity</th>\n",
       "    </tr>\n",
       "  </thead>\n",
       "  <tbody>\n",
       "    <tr>\n",
       "      <th>0</th>\n",
       "      <td>ADCETRIS</td>\n",
       "      <td>Peripheral Neuropathy</td>\n",
       "      <td>Severe</td>\n",
       "    </tr>\n",
       "    <tr>\n",
       "      <th>1</th>\n",
       "      <td>ADCETRIS</td>\n",
       "      <td>Anaphylaxis</td>\n",
       "      <td>Severe</td>\n",
       "    </tr>\n",
       "    <tr>\n",
       "      <th>2</th>\n",
       "      <td>ADCETRIS</td>\n",
       "      <td>Infusion Reactions</td>\n",
       "      <td>Severe</td>\n",
       "    </tr>\n",
       "    <tr>\n",
       "      <th>3</th>\n",
       "      <td>ADCETRIS</td>\n",
       "      <td>Hematologic Toxicities</td>\n",
       "      <td>Severe</td>\n",
       "    </tr>\n",
       "    <tr>\n",
       "      <th>4</th>\n",
       "      <td>ADCETRIS</td>\n",
       "      <td>Infections</td>\n",
       "      <td>Severe</td>\n",
       "    </tr>\n",
       "  </tbody>\n",
       "</table>\n",
       "</div>"
      ],
      "text/plain": [
       "       File         AdverseReaction Severity\n",
       "0  ADCETRIS   Peripheral Neuropathy   Severe\n",
       "1  ADCETRIS             Anaphylaxis   Severe\n",
       "2  ADCETRIS      Infusion Reactions   Severe\n",
       "3  ADCETRIS  Hematologic Toxicities   Severe\n",
       "4  ADCETRIS              Infections   Severe"
      ]
     },
     "execution_count": 14,
     "metadata": {},
     "output_type": "execute_result"
    }
   ],
   "source": [
    "import pandas as pd\n",
    "import pandas as pd\n",
    "import seaborn as sns\n",
    "import matplotlib.pyplot as plt\n",
    "# Load the data\n",
    "data = pd.read_csv(\"Finale.csv\")  # Replace with the actual path if different\n",
    "\n",
    "# Drop unnecessary columns\n",
    "data = data.drop(columns=[ \"Unnamed: 0\"])\n",
    "\n",
    "# Inspect the first few rows to confirm changes\n",
    "data.head()"
   ]
  },
  {
   "cell_type": "code",
   "execution_count": 26,
   "id": "5c44ec76",
   "metadata": {},
   "outputs": [],
   "source": [
    "import pandas as pd                          # For data manipulation\n",
    "from sklearn.model_selection import train_test_split  # For splitting data into training and testing sets\n",
    "from sklearn.feature_extraction.text import TfidfVectorizer  # For text feature extraction\n",
    "from sklearn.linear_model import LogisticRegression  # For the logistic regression model\n",
    "from sklearn.metrics import classification_report   # For model evaluation\n"
   ]
  },
  {
   "cell_type": "code",
   "execution_count": 22,
   "id": "d3426f78",
   "metadata": {},
   "outputs": [
    {
     "data": {
      "text/plain": [
       "array(['Severe', 'Mild', 'Moderate', 'Uncertain'], dtype=object)"
      ]
     },
     "execution_count": 22,
     "metadata": {},
     "output_type": "execute_result"
    }
   ],
   "source": [
    "data['Severity'].unique()"
   ]
  },
  {
   "cell_type": "code",
   "execution_count": 19,
   "id": "de259618",
   "metadata": {},
   "outputs": [],
   "source": [
    "# Merge classes\n",
    "data['Severity'] = data['Severity'].replace({\n",
    "    'None': 'Mild',\n",
    "    'significantly': 'Moderate',\n",
    "    'Life-threatening': 'Severe',\n",
    "    'Risk':'Severe',\n",
    "    'Grade':'Severe',\n",
    "    'Very Mild': 'Mild'\n",
    "})"
   ]
  },
  {
   "cell_type": "code",
   "execution_count": 20,
   "id": "f2a8900c",
   "metadata": {},
   "outputs": [],
   "source": [
    "data = data.dropna(subset=['Severity'])"
   ]
  },
  {
   "cell_type": "code",
   "execution_count": 21,
   "id": "a7590963",
   "metadata": {},
   "outputs": [
    {
     "data": {
      "image/png": "[encoded data removed]",
      "text/plain": [
       "<Figure size 800x600 with 1 Axes>"
      ]
     },
     "metadata": {},
     "output_type": "display_data"
    }
   ],
   "source": [
    "# Plot the distribution of severity levels\n",
    "plt.figure(figsize=(8, 6))\n",
    "sns.countplot(data=data, x='Severity', palette='viridis')\n",
    "plt.title('Distribution of Severity Levels')\n",
    "plt.xlabel('Severity')\n",
    "plt.ylabel('Count')\n",
    "\n",
    "# Display the plot\n",
    "plt.show()"
   ]
  },
  {
   "cell_type": "code",
   "execution_count": 24,
   "id": "c936c57d",
   "metadata": {},
   "outputs": [],
   "source": [
    "# Define features and labels\n",
    "X = data['AdverseReaction']\n",
    "y = data['Severity'].map({\n",
    "    'Uncertain': 0,  \n",
    "    'Mild': 1, \n",
    "    'Moderate': 2, \n",
    "    'Severe': 3\n",
    "})  # Define features and labels\n"
   ]
  },
  {
   "cell_type": "code",
   "execution_count": 29,
   "id": "57767fd4",
   "metadata": {},
   "outputs": [
    {
     "name": "stdout",
     "output_type": "stream",
     "text": [
      "              precision    recall  f1-score   support\n",
      "\n",
      "   Uncertain       0.69      0.28      0.39     12584\n",
      "        Mild       0.63      0.30      0.41     38848\n",
      "    Moderate       0.64      0.25      0.36     10168\n",
      "      Severe       0.71      0.94      0.81    103372\n",
      "\n",
      "    accuracy                           0.70    164972\n",
      "   macro avg       0.67      0.44      0.49    164972\n",
      "weighted avg       0.68      0.70      0.65    164972\n",
      "\n"
     ]
    }
   ],
   "source": [
    "# Feature extraction\n",
    "vectorizer = TfidfVectorizer()\n",
    "X_vectorized = vectorizer.fit_transform(X)\n",
    "\n",
    "# Train-test split\n",
    "X_train, X_test, y_train, y_test = train_test_split(X_vectorized, y, test_size=0.2, random_state=42)\n",
    "target_names = ['Uncertain', 'Mild', 'Moderate', 'Severe']\n",
    "\n",
    "\n",
    "# Logistic regression model\n",
    "model = LogisticRegression(max_iter=1000)\n",
    "model.fit(X_train, y_train)\n",
    "\n",
    "# Predictions and evaluation\n",
    "y_pred = model.predict(X_test)\n",
    "print(classification_report(y_test, y_pred, labels=[0, 1, 2, 3], target_names=target_names))"
   ]
  },
  {
   "cell_type": "code",
   "execution_count": null,
   "id": "816b700b",
   "metadata": {},
   "outputs": [],
   "source": []
  }
 ],
 "metadata": {
  "kernelspec": {
   "display_name": "Python 3 (ipykernel)",
   "language": "python",
   "name": "python3"
  },
  "language_info": {
   "codemirror_mode": {
    "name": "ipython",
    "version": 3
   },
   "file_extension": ".py",
   "mimetype": "text/x-python",
   "name": "python",
   "nbconvert_exporter": "python",
   "pygments_lexer": "ipython3",
   "version": "3.11.3"
  }
 },
 "nbformat": 4,
 "nbformat_minor": 5
}
