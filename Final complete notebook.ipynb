{
 "cells": [
  {
   "cell_type": "code",
   "execution_count": 1,
   "id": "8307ad85",
   "metadata": {},
   "outputs": [
    {
     "name": "stderr",
     "output_type": "stream",
     "text": [
      "[nltk_data] Downloading package stopwords to\n",
      "[nltk_data]     C:\\Users\\abise\\AppData\\Roaming\\nltk_data...\n",
      "[nltk_data]   Package stopwords is already up-to-date!\n"
     ]
    }
   ],
   "source": [
    "import pandas as pd\n",
    "from sklearn.model_selection import train_test_split\n",
    "from sklearn.feature_extraction.text import TfidfVectorizer\n",
    "from sklearn.linear_model import LogisticRegression\n",
    "from sklearn.metrics import classification_report\n",
    "from sklearn.preprocessing import LabelEncoder\n",
    "import nltk\n",
    "nltk.download('stopwords')\n",
    "from nltk.corpus import stopwords"
   ]
  },
  {
   "cell_type": "code",
   "execution_count": 4,
   "id": "656f3e56",
   "metadata": {},
   "outputs": [
    {
     "name": "stdout",
     "output_type": "stream",
     "text": [
      "       File         AdverseReaction Severity\n",
      "0  ADCETRIS   Peripheral Neuropathy   Severe\n",
      "1  ADCETRIS             Anaphylaxis   Severe\n",
      "2  ADCETRIS      Infusion Reactions   Severe\n",
      "3  ADCETRIS  Hematologic Toxicities   Severe\n",
      "4  ADCETRIS              Infections   Severe\n"
     ]
    }
   ],
   "source": [
    "df = pd.read_csv('My_final_sentiment.csv')\n",
    "print(df.head())  \n"
   ]
  },
  {
   "cell_type": "code",
   "execution_count": 9,
   "id": "47967d08",
   "metadata": {},
   "outputs": [],
   "source": [
    "# Step 1: Preprocess the text (remove stopwords, lowercase, etc.)\n",
    "stop_words = set(stopwords.words('english'))\n",
    "df['AdverseReaction'] = df['AdverseReaction'].apply(lambda x: ' '.join([word.lower() for word in x.split() if word.lower() not in stop_words]))\n",
    "\n",
    "# Step 2: Encode the labels (Severity) into numerical values\n",
    "label_encoder = LabelEncoder()\n",
    "df['Severity_Label'] = label_encoder.fit_transform(df['Severity'])"
   ]
  },
  {
   "cell_type": "code",
   "execution_count": 10,
   "id": "ef0399eb",
   "metadata": {},
   "outputs": [],
   "source": [
    "# Step 3: Split the data into training and test sets\n",
    "X = df['AdverseReaction']\n",
    "y = df['Severity_Label']\n",
    "\n",
    "X_train, X_test, y_train, y_test = train_test_split(X, y, test_size=0.2, random_state=42)\n",
    "\n",
    "# Step 4: Vectorize the text using TF-IDF\n",
    "vectorizer = TfidfVectorizer()\n",
    "X_train_tfidf = vectorizer.fit_transform(X_train)\n",
    "X_test_tfidf = vectorizer.transform(X_test)"
   ]
  },
  {
   "cell_type": "code",
   "execution_count": 11,
   "id": "67287575",
   "metadata": {},
   "outputs": [
    {
     "name": "stderr",
     "output_type": "stream",
     "text": [
      "C:\\Users\\abise\\anaconda3\\Lib\\site-packages\\sklearn\\linear_model\\_logistic.py:458: ConvergenceWarning: lbfgs failed to converge (status=1):\n",
      "STOP: TOTAL NO. of ITERATIONS REACHED LIMIT.\n",
      "\n",
      "Increase the number of iterations (max_iter) or scale the data as shown in:\n",
      "    https://scikit-learn.org/stable/modules/preprocessing.html\n",
      "Please also refer to the documentation for alternative solver options:\n",
      "    https://scikit-learn.org/stable/modules/linear_model.html#logistic-regression\n",
      "  n_iter_i = _check_optimize_result(\n"
     ]
    },
    {
     "name": "stdout",
     "output_type": "stream",
     "text": [
      "              precision    recall  f1-score   support\n",
      "\n",
      "           0       0.62      0.37      0.47     50766\n",
      "           1       0.62      0.25      0.36     25910\n",
      "           2       0.63      0.88      0.73     88296\n",
      "\n",
      "    accuracy                           0.63    164972\n",
      "   macro avg       0.62      0.50      0.52    164972\n",
      "weighted avg       0.62      0.63      0.59    164972\n",
      "\n",
      "['Severe' 'Severe']\n"
     ]
    }
   ],
   "source": [
    "# Step 5: Train a Logistic Regression model\n",
    "model = LogisticRegression()\n",
    "model.fit(X_train_tfidf, y_train)\n",
    "\n",
    "# Step 6: Evaluate the model\n",
    "y_pred = model.predict(X_test_tfidf)\n",
    "print(classification_report(y_test, y_pred))\n",
    "\n",
    "# Step 7: Predict the severity of new reactions\n",
    "new_reaction = [\"Severe headache\", \"Mild rash\"]\n",
    "new_reaction_tfidf = vectorizer.transform(new_reaction)\n",
    "predictions = model.predict(new_reaction_tfidf)\n",
    "\n",
    "# Convert numeric labels back to original severity labels\n",
    "predicted_severity = label_encoder.inverse_transform(predictions)\n",
    "print(predicted_severity)"
   ]
  },
  {
   "cell_type": "code",
   "execution_count": 8,
   "id": "07977202",
   "metadata": {},
   "outputs": [],
   "source": [
    "df_cleaned = df.drop_duplicates(subset=['File', 'AdverseReaction'])"
   ]
  },
  {
   "cell_type": "code",
   "execution_count": 13,
   "id": "dacb97f1",
   "metadata": {},
   "outputs": [],
   "source": [
    "#with both file and advereser reaction "
   ]
  },
  {
   "cell_type": "code",
   "execution_count": 14,
   "id": "53208f34",
   "metadata": {},
   "outputs": [
    {
     "name": "stderr",
     "output_type": "stream",
     "text": [
      "C:\\Users\\abise\\AppData\\Local\\Temp\\ipykernel_32812\\1524729927.py:2: SettingWithCopyWarning: \n",
      "A value is trying to be set on a copy of a slice from a DataFrame.\n",
      "Try using .loc[row_indexer,col_indexer] = value instead\n",
      "\n",
      "See the caveats in the documentation: https://pandas.pydata.org/pandas-docs/stable/user_guide/indexing.html#returning-a-view-versus-a-copy\n",
      "  df_cleaned['Combined_Feature'] = df_cleaned['File'] + \" \" + df_cleaned['AdverseReaction']\n",
      "C:\\Users\\abise\\AppData\\Local\\Temp\\ipykernel_32812\\1524729927.py:6: SettingWithCopyWarning: \n",
      "A value is trying to be set on a copy of a slice from a DataFrame.\n",
      "Try using .loc[row_indexer,col_indexer] = value instead\n",
      "\n",
      "See the caveats in the documentation: https://pandas.pydata.org/pandas-docs/stable/user_guide/indexing.html#returning-a-view-versus-a-copy\n",
      "  df_cleaned['Combined_Feature'] = df_cleaned['Combined_Feature'].apply(lambda x: ' '.join([word.lower() for word in x.split() if word.lower() not in stop_words]))\n"
     ]
    }
   ],
   "source": [
    "\n",
    "# Step 2: Combine 'File' and 'AdverseReaction' into a single text column\n",
    "df_cleaned['Combined_Feature'] = df_cleaned['File'] + \" \" + df_cleaned['AdverseReaction']\n",
    "\n",
    "# Step 3: Preprocess the text (remove stopwords, lowercase, etc.)\n",
    "stop_words = set(stopwords.words('english'))\n",
    "df_cleaned['Combined_Feature'] = df_cleaned['Combined_Feature'].apply(lambda x: ' '.join([word.lower() for word in x.split() if word.lower() not in stop_words]))\n"
   ]
  },
  {
   "cell_type": "code",
   "execution_count": 15,
   "id": "f26cc52e",
   "metadata": {},
   "outputs": [
    {
     "name": "stderr",
     "output_type": "stream",
     "text": [
      "C:\\Users\\abise\\AppData\\Local\\Temp\\ipykernel_32812\\3705880141.py:3: SettingWithCopyWarning: \n",
      "A value is trying to be set on a copy of a slice from a DataFrame.\n",
      "Try using .loc[row_indexer,col_indexer] = value instead\n",
      "\n",
      "See the caveats in the documentation: https://pandas.pydata.org/pandas-docs/stable/user_guide/indexing.html#returning-a-view-versus-a-copy\n",
      "  df_cleaned['Severity_Label'] = label_encoder.fit_transform(df_cleaned['Severity'])\n"
     ]
    }
   ],
   "source": [
    "# Step 4: Encode the labels (Severity) into numerical values\n",
    "label_encoder = LabelEncoder()\n",
    "df_cleaned['Severity_Label'] = label_encoder.fit_transform(df_cleaned['Severity'])\n",
    "\n",
    "# Step 5: Split the data into training and test sets\n",
    "X = df_cleaned['Combined_Feature']\n",
    "y = df_cleaned['Severity_Label']\n",
    "\n",
    "X_train, X_test, y_train, y_test = train_test_split(X, y, test_size=0.2, random_state=42)\n",
    "\n",
    "# Step 6: Vectorize the combined text using TF-IDF\n",
    "vectorizer = TfidfVectorizer()\n",
    "X_train_tfidf = vectorizer.fit_transform(X_train)\n",
    "X_test_tfidf = vectorizer.transform(X_test)"
   ]
  },
  {
   "cell_type": "code",
   "execution_count": 16,
   "id": "da9180bc",
   "metadata": {},
   "outputs": [
    {
     "name": "stdout",
     "output_type": "stream",
     "text": [
      "              precision    recall  f1-score   support\n",
      "\n",
      "           0       0.83      0.79      0.81     11156\n",
      "           1       0.83      0.77      0.80      7131\n",
      "           2       0.86      0.90      0.88     21881\n",
      "\n",
      "    accuracy                           0.85     40168\n",
      "   macro avg       0.84      0.82      0.83     40168\n",
      "weighted avg       0.85      0.85      0.85     40168\n",
      "\n",
      "['None' 'None']\n"
     ]
    },
    {
     "name": "stderr",
     "output_type": "stream",
     "text": [
      "C:\\Users\\abise\\anaconda3\\Lib\\site-packages\\sklearn\\linear_model\\_logistic.py:458: ConvergenceWarning: lbfgs failed to converge (status=1):\n",
      "STOP: TOTAL NO. of ITERATIONS REACHED LIMIT.\n",
      "\n",
      "Increase the number of iterations (max_iter) or scale the data as shown in:\n",
      "    https://scikit-learn.org/stable/modules/preprocessing.html\n",
      "Please also refer to the documentation for alternative solver options:\n",
      "    https://scikit-learn.org/stable/modules/linear_model.html#logistic-regression\n",
      "  n_iter_i = _check_optimize_result(\n"
     ]
    }
   ],
   "source": [
    "# Step 7: Train a Logistic Regression model\n",
    "model = LogisticRegression()\n",
    "model.fit(X_train_tfidf, y_train)\n",
    "\n",
    "# Step 8: Evaluate the model\n",
    "y_pred = model.predict(X_test_tfidf)\n",
    "print(classification_report(y_test, y_pred))\n",
    "\n",
    "# Step 9: Predict the severity of new reactions\n",
    "new_reaction = [\"ADCETRIS Peripheral Neuropathy\", \"ADCETRIS Mild rash\"]\n",
    "new_reaction_tfidf = vectorizer.transform(new_reaction)\n",
    "predictions = model.predict(new_reaction_tfidf)\n",
    "\n",
    "# Convert numeric labels back to original severity labels\n",
    "predicted_severity = label_encoder.inverse_transform(predictions)\n",
    "print(predicted_severity)"
   ]
  },
  {
   "cell_type": "code",
   "execution_count": 21,
   "id": "288187aa",
   "metadata": {},
   "outputs": [
    {
     "name": "stdout",
     "output_type": "stream",
     "text": [
      "Severe      109449\n",
      "Moderate     55154\n",
      "None         36237\n",
      "Name: Severity, dtype: int64\n"
     ]
    }
   ],
   "source": [
    "print(df_cleaned['Severity'].value_counts())"
   ]
  },
  {
   "cell_type": "code",
   "execution_count": 18,
   "id": "d6bf7ea5",
   "metadata": {},
   "outputs": [
    {
     "name": "stdout",
     "output_type": "stream",
     "text": [
      "Requirement already satisfied: imbalanced-learn in c:\\users\\abise\\anaconda3\\lib\\site-packages (0.10.1)\n",
      "Requirement already satisfied: numpy>=1.17.3 in c:\\users\\abise\\anaconda3\\lib\\site-packages (from imbalanced-learn) (1.24.3)\n",
      "Requirement already satisfied: scipy>=1.3.2 in c:\\users\\abise\\anaconda3\\lib\\site-packages (from imbalanced-learn) (1.10.1)\n",
      "Requirement already satisfied: scikit-learn>=1.0.2 in c:\\users\\abise\\anaconda3\\lib\\site-packages (from imbalanced-learn) (1.2.2)\n",
      "Requirement already satisfied: joblib>=1.1.1 in c:\\users\\abise\\anaconda3\\lib\\site-packages (from imbalanced-learn) (1.2.0)\n",
      "Requirement already satisfied: threadpoolctl>=2.0.0 in c:\\users\\abise\\anaconda3\\lib\\site-packages (from imbalanced-learn) (2.2.0)\n"
     ]
    }
   ],
   "source": [
    "!pip install imbalanced-learn\n"
   ]
  },
  {
   "cell_type": "code",
   "execution_count": 19,
   "id": "f5b3fa14",
   "metadata": {},
   "outputs": [],
   "source": [
    "#usiong smote in cure the issue of imbalance \n"
   ]
  },
  {
   "cell_type": "code",
   "execution_count": 20,
   "id": "b0f04f17",
   "metadata": {},
   "outputs": [
    {
     "name": "stdout",
     "output_type": "stream",
     "text": [
      "              precision    recall  f1-score   support\n",
      "\n",
      "           0       0.77      0.86      0.81     11156\n",
      "           1       0.74      0.89      0.80      7131\n",
      "           2       0.93      0.81      0.87     21881\n",
      "\n",
      "    accuracy                           0.84     40168\n",
      "   macro avg       0.81      0.85      0.83     40168\n",
      "weighted avg       0.85      0.84      0.84     40168\n",
      "\n"
     ]
    }
   ],
   "source": [
    "from imblearn.over_sampling import SMOTE\n",
    "from sklearn.model_selection import train_test_split\n",
    "from sklearn.linear_model import LogisticRegression\n",
    "from sklearn.metrics import classification_report\n",
    "\n",
    "# Assuming X_train_tfidf and y_train are already defined\n",
    "\n",
    "# Apply SMOTE to the training data\n",
    "smote = SMOTE(random_state=42)\n",
    "X_train_res, y_train_res = smote.fit_resample(X_train_tfidf, y_train)\n",
    "\n",
    "# Train the model on the resampled data\n",
    "model = LogisticRegression(max_iter=1000, class_weight='balanced')  # You can add class_weight if needed\n",
    "model.fit(X_train_res, y_train_res)\n",
    "\n",
    "# Evaluate the model on the test set\n",
    "y_pred = model.predict(X_test_tfidf)\n",
    "print(classification_report(y_test, y_pred))\n"
   ]
  },
  {
   "cell_type": "code",
   "execution_count": 22,
   "id": "4b649c3d",
   "metadata": {},
   "outputs": [],
   "source": [
    "#using balanced method"
   ]
  },
  {
   "cell_type": "code",
   "execution_count": 23,
   "id": "82f4298e",
   "metadata": {},
   "outputs": [
    {
     "name": "stdout",
     "output_type": "stream",
     "text": [
      "              precision    recall  f1-score   support\n",
      "\n",
      "           0       0.76      0.87      0.81     11156\n",
      "           1       0.72      0.90      0.80      7131\n",
      "           2       0.94      0.80      0.86     21881\n",
      "\n",
      "    accuracy                           0.83     40168\n",
      "   macro avg       0.81      0.85      0.82     40168\n",
      "weighted avg       0.85      0.83      0.84     40168\n",
      "\n"
     ]
    },
    {
     "name": "stderr",
     "output_type": "stream",
     "text": [
      "C:\\Users\\abise\\anaconda3\\Lib\\site-packages\\sklearn\\linear_model\\_logistic.py:458: ConvergenceWarning: lbfgs failed to converge (status=1):\n",
      "STOP: TOTAL NO. of ITERATIONS REACHED LIMIT.\n",
      "\n",
      "Increase the number of iterations (max_iter) or scale the data as shown in:\n",
      "    https://scikit-learn.org/stable/modules/preprocessing.html\n",
      "Please also refer to the documentation for alternative solver options:\n",
      "    https://scikit-learn.org/stable/modules/linear_model.html#logistic-regression\n",
      "  n_iter_i = _check_optimize_result(\n"
     ]
    }
   ],
   "source": [
    "from sklearn.linear_model import LogisticRegression\n",
    "\n",
    "# Use class weighting to handle the imbalance\n",
    "model = LogisticRegression(class_weight='balanced')\n",
    "\n",
    "# Fit the model on the training data\n",
    "model.fit(X_train_tfidf, y_train)\n",
    "\n",
    "# Evaluate the model\n",
    "y_pred = model.predict(X_test_tfidf)\n",
    "from sklearn.metrics import classification_report\n",
    "print(classification_report(y_test, y_pred))"
   ]
  },
  {
   "cell_type": "code",
   "execution_count": 25,
   "id": "0e3ec0ec",
   "metadata": {},
   "outputs": [],
   "source": [
    "#ensemble with xgboost and random forest\n"
   ]
  },
  {
   "cell_type": "code",
   "execution_count": 26,
   "id": "25c062f4",
   "metadata": {},
   "outputs": [
    {
     "name": "stdout",
     "output_type": "stream",
     "text": [
      "Requirement already satisfied: xgboost in c:\\users\\abise\\anaconda3\\lib\\site-packages (2.0.3)\n",
      "Requirement already satisfied: numpy in c:\\users\\abise\\anaconda3\\lib\\site-packages (from xgboost) (1.24.3)\n",
      "Requirement already satisfied: scipy in c:\\users\\abise\\anaconda3\\lib\\site-packages (from xgboost) (1.10.1)\n"
     ]
    }
   ],
   "source": [
    "!pip install xgboost\n"
   ]
  },
  {
   "cell_type": "code",
   "execution_count": 27,
   "id": "572d24a6",
   "metadata": {},
   "outputs": [
    {
     "name": "stdout",
     "output_type": "stream",
     "text": [
      "              precision    recall  f1-score   support\n",
      "\n",
      "           0       0.73      0.31      0.43     11156\n",
      "           1       0.57      0.38      0.46      7131\n",
      "           2       0.63      0.89      0.74     21881\n",
      "\n",
      "    accuracy                           0.64     40168\n",
      "   macro avg       0.64      0.53      0.54     40168\n",
      "weighted avg       0.65      0.64      0.60     40168\n",
      "\n"
     ]
    }
   ],
   "source": [
    "from sklearn.ensemble import RandomForestClassifier\n",
    "from sklearn.metrics import classification_report\n",
    "\n",
    "# Train a Random Forest model with class weighting\n",
    "rf_model = RandomForestClassifier(class_weight='balanced', random_state=42, n_estimators=100, max_depth=10)\n",
    "rf_model.fit(X_train_tfidf, y_train)\n",
    "\n",
    "# Evaluate the model on the test set\n",
    "y_pred_rf = rf_model.predict(X_test_tfidf)\n",
    "print(classification_report(y_test, y_pred_rf))\n"
   ]
  },
  {
   "cell_type": "code",
   "execution_count": 28,
   "id": "357f8e01",
   "metadata": {},
   "outputs": [
    {
     "name": "stderr",
     "output_type": "stream",
     "text": [
      "C:\\Users\\abise\\anaconda3\\Lib\\site-packages\\xgboost\\core.py:160: UserWarning: [03:52:00] WARNING: C:\\buildkite-agent\\builds\\buildkite-windows-cpu-autoscaling-group-i-0b3782d1791676daf-1\\xgboost\\xgboost-ci-windows\\src\\learner.cc:742: \n",
      "Parameters: { \"scale_pos_weight\" } are not used.\n",
      "\n",
      "  warnings.warn(smsg, UserWarning)\n"
     ]
    },
    {
     "name": "stdout",
     "output_type": "stream",
     "text": [
      "              precision    recall  f1-score   support\n",
      "\n",
      "           0       0.96      0.78      0.86     11156\n",
      "           1       0.97      0.76      0.85      7131\n",
      "           2       0.85      0.99      0.91     21881\n",
      "\n",
      "    accuracy                           0.89     40168\n",
      "   macro avg       0.93      0.84      0.88     40168\n",
      "weighted avg       0.90      0.89      0.89     40168\n",
      "\n"
     ]
    }
   ],
   "source": [
    "import xgboost as xgb\n",
    "from sklearn.metrics import classification_report\n",
    "\n",
    "# Train an XGBoost model with class weighting\n",
    "xgb_model = xgb.XGBClassifier(scale_pos_weight=3, random_state=42, n_estimators=100, max_depth=10)\n",
    "xgb_model.fit(X_train_tfidf, y_train)\n",
    "\n",
    "# Evaluate the model on the test set\n",
    "y_pred_xgb = xgb_model.predict(X_test_tfidf)\n",
    "print(classification_report(y_test, y_pred_xgb))\n"
   ]
  },
  {
   "cell_type": "code",
   "execution_count": null,
   "id": "e4ee9777",
   "metadata": {},
   "outputs": [
    {
     "name": "stdout",
     "output_type": "stream",
     "text": [
      "Fitting 3 folds for each of 54 candidates, totalling 162 fits\n"
     ]
    }
   ],
   "source": [
    "from sklearn.model_selection import GridSearchCV\n",
    "\n",
    "# Define the parameter grid\n",
    "param_grid = {\n",
    "    'learning_rate': [0.01, 0.1, 0.2],\n",
    "    'max_depth': [6, 8, 10],\n",
    "    'n_estimators': [100, 200],\n",
    "    'scale_pos_weight': [1, 2, 3]\n",
    "}\n",
    "\n",
    "# Create a XGBoost model\n",
    "xgb_model = xgb.XGBClassifier(random_state=42)\n",
    "\n",
    "# Perform GridSearchCV\n",
    "grid_search = GridSearchCV(estimator=xgb_model, param_grid=param_grid, cv=3, n_jobs=-1, verbose=2)\n",
    "grid_search.fit(X_train_tfidf, y_train)\n",
    "\n",
    "# Print the best parameters and score\n",
    "print(\"Best parameters:\", grid_search.best_params_)\n",
    "print(\"Best score:\", grid_search.best_score_)\n"
   ]
  },
  {
   "cell_type": "code",
   "execution_count": null,
   "id": "028b2348",
   "metadata": {},
   "outputs": [],
   "source": []
  }
 ],
 "metadata": {
  "kernelspec": {
   "display_name": "Python 3 (ipykernel)",
   "language": "python",
   "name": "python3"
  },
  "language_info": {
   "codemirror_mode": {
    "name": "ipython",
    "version": 3
   },
   "file_extension": ".py",
   "mimetype": "text/x-python",
   "name": "python",
   "nbconvert_exporter": "python",
   "pygments_lexer": "ipython3",
   "version": "3.11.3"
  }
 },
 "nbformat": 4,
 "nbformat_minor": 5
}
